{
 "cells": [
  {
   "cell_type": "markdown",
   "metadata": {},
   "source": [
    "# Tello Setup Test Notebook\n",
    "\n",
    "In this notebook we will create command using the DJITelloPy package to control the Tello Drone.\n",
    "\n",
    "> Github Repo for the DJITelloPy API\n",
    "- https://github.com/damiafuentes/DJITelloPy\n",
    "\n",
    "> All operations are from the Tello perspective\n",
    "- Instructing the Tello to move left, moves the Tello drone to the left, but it will look like it is moving to our right as we look at it. \n",
    "\n",
    "> Tello will sometimes land on its own\n",
    "- This happens if you do not issue a recent command.  The Tello will assume it has lost connect\n",
    "- If the bottom optical sensors cannot detect position\n",
    "- If the Tello loses connection with the computer\n"
   ]
  },
  {
   "cell_type": "markdown",
   "metadata": {},
   "source": [
    "First import the Tello object from the DJITelloPy package"
   ]
  },
  {
   "cell_type": "code",
   "execution_count": null,
   "metadata": {
    "ExecuteTime": {
     "end_time": "2020-07-13T03:46:41.993466Z",
     "start_time": "2020-07-13T03:46:41.866594Z"
    }
   },
   "outputs": [],
   "source": [
    "from djitellopy import Tello"
   ]
  },
  {
   "cell_type": "markdown",
   "metadata": {},
   "source": [
    "The first step is to create the Tello object.  This object will represent the Tello Drone.\n",
    "\n",
    "By default the port that the Tello object will listen on is `8889`.  You will recognize this port from the `Tello Drone Programming with Python - Video Course` as the port we always used.\n",
    "\n",
    "The default IP Address we connected to is `192.168.10.1`.  "
   ]
  },
  {
   "cell_type": "code",
   "execution_count": null,
   "metadata": {
    "ExecuteTime": {
     "end_time": "2020-07-13T03:46:49.649042Z",
     "start_time": "2020-07-13T03:46:49.645844Z"
    }
   },
   "outputs": [],
   "source": [
    "tello = Tello()"
   ]
  },
  {
   "cell_type": "markdown",
   "metadata": {},
   "source": [
    "Creating the Tello object will not connect to the Tello or attempt to send any commands to the Tello.  You can think of the Tello object as the software representation of the actual Drone."
   ]
  },
  {
   "cell_type": "markdown",
   "metadata": {},
   "source": [
    "At this point you can power on the Drone and connect your WIFI network to the Tello WIFI Access point.  When this is complete - come back to here to continue with commands.\n",
    "\n",
    "Connect to the Tello."
   ]
  },
  {
   "cell_type": "code",
   "execution_count": null,
   "metadata": {
    "ExecuteTime": {
     "end_time": "2020-07-13T03:47:03.679714Z",
     "start_time": "2020-07-13T03:47:03.559252Z"
    }
   },
   "outputs": [],
   "source": [
    "tello.connect()"
   ]
  },
  {
   "cell_type": "markdown",
   "metadata": {},
   "source": [
    "Get the Battery Life Percentage.  Using the API we call the `get_battery()` function.  Recall how we did this in the course.  We sent a message with a string: `battery?`.  \n",
    "\n",
    "The Tello API provides a more programmatic interface and hides the details of the actual commands.\n",
    "\n",
    "Notice that the calls are synchronous.  Meaning the function call returns after Tello has completed the command."
   ]
  },
  {
   "cell_type": "code",
   "execution_count": null,
   "metadata": {
    "ExecuteTime": {
     "end_time": "2020-07-13T03:47:11.109791Z",
     "start_time": "2020-07-13T03:47:11.106693Z"
    }
   },
   "outputs": [],
   "source": [
    "response = tello.get_battery()\n",
    "print(response)"
   ]
  },
  {
   "cell_type": "markdown",
   "metadata": {},
   "source": [
    "We are ready for takeoff.  Make sure Tello is clear of any obstacles.  We will fly the Tello is a small square."
   ]
  },
  {
   "cell_type": "code",
   "execution_count": null,
   "metadata": {
    "ExecuteTime": {
     "end_time": "2020-07-13T03:47:23.131430Z",
     "start_time": "2020-07-13T03:47:16.514127Z"
    }
   },
   "outputs": [],
   "source": [
    "tello.takeoff()"
   ]
  },
  {
   "cell_type": "markdown",
   "metadata": {},
   "source": [
    "## Move Up / Move Down"
   ]
  },
  {
   "cell_type": "code",
   "execution_count": null,
   "metadata": {},
   "outputs": [],
   "source": [
    "tello.move_up(40)"
   ]
  },
  {
   "cell_type": "code",
   "execution_count": null,
   "metadata": {},
   "outputs": [],
   "source": [
    "tello.move_down(40)"
   ]
  },
  {
   "cell_type": "code",
   "execution_count": null,
   "metadata": {},
   "outputs": [],
   "source": [
    "# Create a loop to go up and down 3 times\n",
    "# range(0,4) - produces the numbers 0,1,2,3.  It is said to be exclusive of the last number 4.\n",
    "print(f\"Height: {tello.get_height()}\")\n",
    "for i in range(0,4):\n",
    "    print(\"Move Up\")\n",
    "    tello.move_up(40)\n",
    "    print(f\"Height: {tello.get_height()}\")\n",
    "    print(\"Move Down\")\n",
    "    tello.move_down(40)\n",
    "    print(f\"Height: {tello.get_height()}\")\n"
   ]
  },
  {
   "cell_type": "markdown",
   "metadata": {},
   "source": [
    "## Move Left / Move Right\n",
    "\n",
    "Remembers that LEFT and RIGHT are with respect to the Tello - not as you are looking at it.\n",
    "\n",
    "For example, if you are looking at the Tello and instruct it to go RIGHT, it will move to your left."
   ]
  },
  {
   "cell_type": "code",
   "execution_count": null,
   "metadata": {},
   "outputs": [],
   "source": [
    "tello.move_left(30)"
   ]
  },
  {
   "cell_type": "code",
   "execution_count": null,
   "metadata": {},
   "outputs": [],
   "source": [
    "tello.move_right(30)"
   ]
  },
  {
   "cell_type": "code",
   "execution_count": null,
   "metadata": {},
   "outputs": [],
   "source": [
    "for i in range(0,4):\n",
    "    print(\"Move Left\")\n",
    "    tello.move_left(30)\n",
    "    print(\"Move Right\")\n",
    "    tello.move_right(30)"
   ]
  },
  {
   "cell_type": "markdown",
   "metadata": {},
   "source": [
    "## Move Forward / Move Backward"
   ]
  },
  {
   "cell_type": "code",
   "execution_count": null,
   "metadata": {},
   "outputs": [],
   "source": [
    "tello.move_forward(60)"
   ]
  },
  {
   "cell_type": "code",
   "execution_count": null,
   "metadata": {},
   "outputs": [],
   "source": [
    "tello.move_back(30)"
   ]
  },
  {
   "cell_type": "markdown",
   "metadata": {},
   "source": [
    "## Rotate Clockwise / Rotate CounterClockwise\n",
    "\n",
    "If you image yourself looking down at the top of the Tello, CLOCKWISE is a rotation to the right.  COUNTER-CLOCKWISE is a rotation to the left"
   ]
  },
  {
   "cell_type": "code",
   "execution_count": null,
   "metadata": {},
   "outputs": [],
   "source": [
    "tello.rotate_clockwise(180)"
   ]
  },
  {
   "cell_type": "code",
   "execution_count": null,
   "metadata": {},
   "outputs": [],
   "source": [
    "tello.rotate_counter_clockwise(180)"
   ]
  },
  {
   "cell_type": "markdown",
   "metadata": {},
   "source": [
    "## Telemetry Data"
   ]
  },
  {
   "cell_type": "markdown",
   "metadata": {},
   "source": [
    "### Battery"
   ]
  },
  {
   "cell_type": "code",
   "execution_count": null,
   "metadata": {},
   "outputs": [],
   "source": [
    "tello.get_battery()"
   ]
  },
  {
   "cell_type": "markdown",
   "metadata": {},
   "source": [
    "### Flight Time"
   ]
  },
  {
   "cell_type": "code",
   "execution_count": null,
   "metadata": {},
   "outputs": [],
   "source": [
    "tello.get_flight_time()"
   ]
  },
  {
   "cell_type": "markdown",
   "metadata": {},
   "source": [
    "### Temperature"
   ]
  },
  {
   "cell_type": "code",
   "execution_count": null,
   "metadata": {},
   "outputs": [],
   "source": [
    "tello.get_temperature()"
   ]
  },
  {
   "cell_type": "markdown",
   "metadata": {},
   "source": [
    "## Flip Forward\n",
    "\n",
    "Tello will perform a flip if the battery is 50% or greater.  If the following command does not work, please check your battery percentage."
   ]
  },
  {
   "cell_type": "code",
   "execution_count": null,
   "metadata": {
    "pycharm": {
     "name": "#%%\n"
    }
   },
   "outputs": [],
   "source": [
    "tello.flip_forward()"
   ]
  },
  {
   "cell_type": "markdown",
   "metadata": {},
   "source": [
    "## LAND\n",
    "\n",
    "One of the most important commands to use is 'land'.  Land will instruct Tello to land safetly."
   ]
  },
  {
   "cell_type": "code",
   "execution_count": null,
   "metadata": {
    "pycharm": {
     "name": "#%%\n"
    }
   },
   "outputs": [],
   "source": [
    "tello.land()"
   ]
  },
  {
   "cell_type": "markdown",
   "metadata": {},
   "source": [
    "## Congratulations\n",
    "\n",
    "Thats it!  If you have successfully issued all of these comamnds your environment is setup for controlling the Tello drone with Python"
   ]
  },
  {
   "cell_type": "code",
   "execution_count": null,
   "metadata": {},
   "outputs": [],
   "source": []
  }
 ],
 "metadata": {
  "kernelspec": {
   "display_name": "Python 3",
   "language": "python",
   "name": "python3"
  },
  "language_info": {
   "codemirror_mode": {
    "name": "ipython",
    "version": 3
   },
   "file_extension": ".py",
   "mimetype": "text/x-python",
   "name": "python",
   "nbconvert_exporter": "python",
   "pygments_lexer": "ipython3",
   "version": "3.7.7"
  },
  "toc": {
   "base_numbering": 1,
   "nav_menu": {},
   "number_sections": true,
   "sideBar": true,
   "skip_h1_title": false,
   "title_cell": "Table of Contents",
   "title_sidebar": "Contents",
   "toc_cell": false,
   "toc_position": {},
   "toc_section_display": true,
   "toc_window_display": false
  }
 },
 "nbformat": 4,
 "nbformat_minor": 4
}